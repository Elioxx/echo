{
 "cells": [
  {
   "cell_type": "markdown",
   "id": "4eff6ca5-3e6d-457a-973c-21782900ebec",
   "metadata": {},
   "source": [
    "## Bandpass"
   ]
  },
  {
   "cell_type": "code",
   "execution_count": 10,
   "id": "6a8bd539-9872-42b9-a0b0-065417a1143f",
   "metadata": {},
   "outputs": [],
   "source": [
    "import matplotlib.pyplot as plt\n",
    "\n",
    "def plot_spectro(fs, input_amp):\n",
    "    fig , ax = plt.subplots()\n",
    "    ax.plot(fs, input_amp)\n",
    "    ax.set_ylim(0, 2500)\n",
    "    ax.set_xlim(0, 20000)\n",
    "    plt.show()"
   ]
  },
  {
   "cell_type": "code",
   "execution_count": 23,
   "id": "540f3d7a",
   "metadata": {},
   "outputs": [
    {
     "data": {
      "image/png": "[encoded data removed]",
      "text/plain": [
       "<Figure size 432x288 with 1 Axes>"
      ]
     },
     "metadata": {
      "needs_background": "light"
     },
     "output_type": "display_data"
    }
   ],
   "source": [
    "plot_spectro(1000, 1000)"
   ]
  },
  {
   "cell_type": "code",
   "execution_count": 2,
   "id": "0021017a-d782-42d3-8a9f-78305af9e196",
   "metadata": {},
   "outputs": [],
   "source": [
    "from thinkdsp import Wave\n",
    "\n",
    "def make_wave(hs, framerate):\n",
    "    ys = np.fft.irfft(hs)\n",
    "    \n",
    "    return Wave(ys,None, framerate)"
   ]
  },
  {
   "cell_type": "code",
   "execution_count": 3,
   "id": "8541734e-ee89-4ee9-be89-f1c430728397",
   "metadata": {},
   "outputs": [],
   "source": [
    "def band_pass(amplitudes, fs, low_cutoff, high_cutoff, factor):\n",
    "    \n",
    "    indices = (low_cutoff > abs(fs)) | (abs(fs) > high_cutoff)\n",
    "    amplitudes[indices] *= factor\n",
    "    \n",
    "    return amplitudes"
   ]
  },
  {
   "cell_type": "code",
   "execution_count": 4,
   "id": "1655e9ae",
   "metadata": {},
   "outputs": [],
   "source": [
    "def reverb(amplitude, time_delay):\n",
    "\n",
    "    time_in_freq = time_delay * 44100\n",
    "\n",
    "    time_in_freq = int(time_in_freq)\n",
    "    reverb_amp = np.pad(amplitude, time_in_freq)\n",
    "    reverb_amp = reverb_amp[:len(amplitude)]\n",
    "    \n",
    "    reverbed_amplitudes = amplitude + reverb_amp\n",
    "    return reverbed_amplitudes"
   ]
  },
  {
   "cell_type": "code",
   "execution_count": 5,
   "id": "2ca317b8",
   "metadata": {},
   "outputs": [],
   "source": [
    "def Interaction(amplitudes, fs, low_cutoff, high_cutoff, factor, time_delay):\n",
    "    amplitudes = amplitudes.copy()\n",
    "    print(\"low_cutoff: {}, high_cutoff: {}, factor: {}\".format(low_cutoff, high_cutoff, factor))\n",
    "    #print(f\"{amplitudes[55000:55005]=}\")\n",
    "    filtered_amplitude = band_pass(amplitudes,fs ,low_cutoff, high_cutoff, factor)\n",
    "    #print(f\"{filtered_amplitude[55000:55005]=}\")\n",
    "    plot_spectro(fs, filtered_amplitude)\n",
    "\n",
    "    filtered_wave = make_wave(filtered_amplitude, wave.framerate)\n",
    "    framerate = filtered_wave.framerate\n",
    "    ys = reverb(filtered_wave.ys, time_delay)\n",
    "    filtered_wave = Wave(ys, None, framerate) \n",
    "    filtered_wave.plot()\n",
    "\n",
    "\n",
    "    \n",
    "    audio = filtered_wave.make_audio()\n",
    "\n",
    "    display(audio)\n",
    "    "
   ]
  },
  {
   "cell_type": "code",
   "execution_count": 6,
   "id": "5373aeef",
   "metadata": {},
   "outputs": [],
   "source": [
    "# # not working yet\n",
    "# import ipywidgets\n",
    "# import asyncio\n",
    "\n",
    "# textbox = ipywidgets.Text(value = '18871__zippi1__sound-bell-440hz.wav',placeholder='please type the path of the file you want to filter')\n",
    "\n",
    "# async def result():\n",
    "\n",
    "#     return textbox.on_submit(textbox.value)\n",
    "\n",
    "# async def file_input():\n",
    "\n",
    "#     task = asyncio.create_task(result())\n",
    "\n",
    "#     path = await task\n",
    "#     return path\n",
    "\n",
    "# display(textbox)\n",
    "\n",
    "# loop = asyncio.get_event_loop()\n",
    "\n",
    "# loop.create_task(file_input())\n",
    "\n",
    "# print(asyncio.all_tasks())\n",
    "\n",
    "# path = asyncio.gather(file_input())"
   ]
  },
  {
   "cell_type": "code",
   "execution_count": 7,
   "id": "7ca558f0",
   "metadata": {},
   "outputs": [],
   "source": [
    "# import asyncio\n",
    "\n",
    "\n",
    "# def wait_forchange(widget, value):\n",
    "#     future = asyncio.Future()\n",
    "#     def get_value(change):\n",
    "#         future.set_result(change.new)\n",
    "#         widget.unobserve(get_value, value)\n",
    "#     widget.observe(get_value, value)\n",
    "#     return future\n",
    "\n",
    "# async def f():\n",
    "#     x = await wait_forchange(textbox, textbox.get_interact_value())\n",
    "#     print(x)\n",
    "# asyncio.ensure_future(f())"
   ]
  },
  {
   "cell_type": "code",
   "execution_count": 8,
   "id": "4aff3ae2",
   "metadata": {},
   "outputs": [
    {
     "ename": "FileNotFoundError",
     "evalue": "[Errno 2] No such file or directory: '92002__jcveliz__violin-origional.wav'",
     "output_type": "error",
     "traceback": [
      "\u001b[0;31m---------------------------------------------------------------------------\u001b[0m",
      "\u001b[0;31mFileNotFoundError\u001b[0m                         Traceback (most recent call last)",
      "Input \u001b[0;32mIn [8]\u001b[0m, in \u001b[0;36m<module>\u001b[0;34m\u001b[0m\n\u001b[1;32m      5\u001b[0m \u001b[38;5;28;01mfrom\u001b[39;00m \u001b[38;5;21;01mthinkdsp\u001b[39;00m \u001b[38;5;28;01mimport\u001b[39;00m read_wave\n\u001b[1;32m      7\u001b[0m \u001b[38;5;66;03m#path = file_input()\u001b[39;00m\n\u001b[1;32m      8\u001b[0m \u001b[38;5;66;03m#wave = read_wave(path)\u001b[39;00m\n\u001b[0;32m----> 9\u001b[0m wave \u001b[38;5;241m=\u001b[39m \u001b[43mread_wave\u001b[49m\u001b[43m(\u001b[49m\u001b[38;5;124;43m\"\u001b[39;49m\u001b[38;5;124;43m92002__jcveliz__violin-origional.wav\u001b[39;49m\u001b[38;5;124;43m\"\u001b[39;49m\u001b[43m)\u001b[49m\n\u001b[1;32m     10\u001b[0m \u001b[38;5;28mprint\u001b[39m(\u001b[38;5;124m\"\u001b[39m\u001b[38;5;124mUnprocessed Spectrum:\u001b[39m\u001b[38;5;124m\"\u001b[39m)\n\u001b[1;32m     11\u001b[0m wave\u001b[38;5;241m.\u001b[39mmake_audio()\n",
      "File \u001b[0;32m~/Documents/Schule/Bulme 2021_22/Audiolabor/thinkdsp.py:97\u001b[0m, in \u001b[0;36mread_wave\u001b[0;34m(filename)\u001b[0m\n\u001b[1;32m     90\u001b[0m \u001b[38;5;28;01mdef\u001b[39;00m \u001b[38;5;21mread_wave\u001b[39m(filename\u001b[38;5;241m=\u001b[39m\u001b[38;5;124m\"\u001b[39m\u001b[38;5;124msound.wav\u001b[39m\u001b[38;5;124m\"\u001b[39m):\n\u001b[1;32m     91\u001b[0m     \u001b[38;5;124;03m\"\"\"Reads a wave file.\u001b[39;00m\n\u001b[1;32m     92\u001b[0m \n\u001b[1;32m     93\u001b[0m \u001b[38;5;124;03m    filename: string\u001b[39;00m\n\u001b[1;32m     94\u001b[0m \n\u001b[1;32m     95\u001b[0m \u001b[38;5;124;03m    returns: Wave\u001b[39;00m\n\u001b[1;32m     96\u001b[0m \u001b[38;5;124;03m    \"\"\"\u001b[39;00m\n\u001b[0;32m---> 97\u001b[0m     fp \u001b[38;5;241m=\u001b[39m \u001b[43mopen_wave\u001b[49m\u001b[43m(\u001b[49m\u001b[43mfilename\u001b[49m\u001b[43m,\u001b[49m\u001b[43m \u001b[49m\u001b[38;5;124;43m\"\u001b[39;49m\u001b[38;5;124;43mr\u001b[39;49m\u001b[38;5;124;43m\"\u001b[39;49m\u001b[43m)\u001b[49m\n\u001b[1;32m     99\u001b[0m     nchannels \u001b[38;5;241m=\u001b[39m fp\u001b[38;5;241m.\u001b[39mgetnchannels()\n\u001b[1;32m    100\u001b[0m     nframes \u001b[38;5;241m=\u001b[39m fp\u001b[38;5;241m.\u001b[39mgetnframes()\n",
      "File \u001b[0;32m/Applications/Xcode.app/Contents/Developer/Library/Frameworks/Python3.framework/Versions/3.8/lib/python3.8/wave.py:510\u001b[0m, in \u001b[0;36mopen\u001b[0;34m(f, mode)\u001b[0m\n\u001b[1;32m    508\u001b[0m         mode \u001b[38;5;241m=\u001b[39m \u001b[38;5;124m'\u001b[39m\u001b[38;5;124mrb\u001b[39m\u001b[38;5;124m'\u001b[39m\n\u001b[1;32m    509\u001b[0m \u001b[38;5;28;01mif\u001b[39;00m mode \u001b[38;5;129;01min\u001b[39;00m (\u001b[38;5;124m'\u001b[39m\u001b[38;5;124mr\u001b[39m\u001b[38;5;124m'\u001b[39m, \u001b[38;5;124m'\u001b[39m\u001b[38;5;124mrb\u001b[39m\u001b[38;5;124m'\u001b[39m):\n\u001b[0;32m--> 510\u001b[0m     \u001b[38;5;28;01mreturn\u001b[39;00m \u001b[43mWave_read\u001b[49m\u001b[43m(\u001b[49m\u001b[43mf\u001b[49m\u001b[43m)\u001b[49m\n\u001b[1;32m    511\u001b[0m \u001b[38;5;28;01melif\u001b[39;00m mode \u001b[38;5;129;01min\u001b[39;00m (\u001b[38;5;124m'\u001b[39m\u001b[38;5;124mw\u001b[39m\u001b[38;5;124m'\u001b[39m, \u001b[38;5;124m'\u001b[39m\u001b[38;5;124mwb\u001b[39m\u001b[38;5;124m'\u001b[39m):\n\u001b[1;32m    512\u001b[0m     \u001b[38;5;28;01mreturn\u001b[39;00m Wave_write(f)\n",
      "File \u001b[0;32m/Applications/Xcode.app/Contents/Developer/Library/Frameworks/Python3.framework/Versions/3.8/lib/python3.8/wave.py:160\u001b[0m, in \u001b[0;36mWave_read.__init__\u001b[0;34m(self, f)\u001b[0m\n\u001b[1;32m    158\u001b[0m \u001b[38;5;28mself\u001b[39m\u001b[38;5;241m.\u001b[39m_i_opened_the_file \u001b[38;5;241m=\u001b[39m \u001b[38;5;28;01mNone\u001b[39;00m\n\u001b[1;32m    159\u001b[0m \u001b[38;5;28;01mif\u001b[39;00m \u001b[38;5;28misinstance\u001b[39m(f, \u001b[38;5;28mstr\u001b[39m):\n\u001b[0;32m--> 160\u001b[0m     f \u001b[38;5;241m=\u001b[39m \u001b[43mbuiltins\u001b[49m\u001b[38;5;241;43m.\u001b[39;49m\u001b[43mopen\u001b[49m\u001b[43m(\u001b[49m\u001b[43mf\u001b[49m\u001b[43m,\u001b[49m\u001b[43m \u001b[49m\u001b[38;5;124;43m'\u001b[39;49m\u001b[38;5;124;43mrb\u001b[39;49m\u001b[38;5;124;43m'\u001b[39;49m\u001b[43m)\u001b[49m\n\u001b[1;32m    161\u001b[0m     \u001b[38;5;28mself\u001b[39m\u001b[38;5;241m.\u001b[39m_i_opened_the_file \u001b[38;5;241m=\u001b[39m f\n\u001b[1;32m    162\u001b[0m \u001b[38;5;66;03m# else, assume it is an open file object already\u001b[39;00m\n",
      "\u001b[0;31mFileNotFoundError\u001b[0m: [Errno 2] No such file or directory: '92002__jcveliz__violin-origional.wav'"
     ]
    }
   ],
   "source": [
    "from ipywidgets import interact, fixed\n",
    "import numpy as np\n",
    "import scipy\n",
    "from IPython.display import display\n",
    "from thinkdsp import read_wave\n",
    "\n",
    "#path = file_input()\n",
    "#wave = read_wave(path)\n",
    "wave = read_wave(\"92002__jcveliz__violin-origional.wav\")\n",
    "print(\"Unprocessed Spectrum:\")\n",
    "wave.make_audio()\n",
    "spectrum = wave.make_spectrum()\n",
    "\n",
    "\n",
    "plot_spectro(spectrum.fs, spectrum.hs)\n",
    "wave.plot()\n",
    "\n",
    "fs = spectrum.fs\n",
    "hs = spectrum.hs\n",
    "amplitudes = hs.copy()\n",
    "type(amplitudes)\n",
    "\n",
    "print(\"Processed Spectrum:\")\n",
    "interact(Interaction, amplitudes=fixed(amplitudes), fs=fixed(fs), low_cutoff=(0, 10000, 100), high_cutoff=(10000, 20000, 100), factor=(0, 1, 0.1), time_delay=(0,2, 0.1))"
   ]
  },
  {
   "cell_type": "code",
   "execution_count": null,
   "id": "b0e1fdfb",
   "metadata": {},
   "outputs": [],
   "source": []
  }
 ],
 "metadata": {
  "interpreter": {
   "hash": "ad288f22df1ae294915492d495cc026c5f636b5127a25bc7cdae3889127565cb"
  },
  "kernelspec": {
   "display_name": "Python 3 (ipykernel)",
   "language": "python",
   "name": "python3"
  },
  "language_info": {
   "codemirror_mode": {
    "name": "ipython",
    "version": 3
   },
   "file_extension": ".py",
   "mimetype": "text/x-python",
   "name": "python",
   "nbconvert_exporter": "python",
   "pygments_lexer": "ipython3",
   "version": "3.8.9"
  }
 },
 "nbformat": 4,
 "nbformat_minor": 5
}
